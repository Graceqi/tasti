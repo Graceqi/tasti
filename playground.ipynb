{
 "cells": [
  {
   "cell_type": "code",
   "execution_count": 5,
   "metadata": {},
   "outputs": [
    {
     "data": {
      "application/vnd.jupyter.widget-view+json": {
       "model_id": "f4435c19f3ed4a5ea8070cc27ccdcd39",
       "version_major": 2,
       "version_minor": 0
      },
      "text/plain": [
       "HBox(children=(FloatProgress(value=0.0, description='Target DNN Invocations', max=7000.0, style=ProgressStyle(…"
      ]
     },
     "metadata": {},
     "output_type": "display_data"
    },
    {
     "name": "stdout",
     "output_type": "stream",
     "text": [
      "\n"
     ]
    }
   ],
   "source": [
    "import tasti\n",
    "config = tasti.examples.NightStreetOfflineConfig()\n",
    "index = tasti.examples.NightStreetOfflineIndex(config)\n",
    "index.init()\n",
    "\n",
    "query = tasti.AggregateQuery(index)\n",
    "query.execute()\n",
    "\n",
    "query = tasti.SUPGPrecisionQuery(index)\n",
    "query.execute()\n",
    "\n",
    "query = tasti.SUPGRecallQuery(index)\n",
    "query.execute()"
   ]
  }
 ],
 "metadata": {
  "kernelspec": {
   "display_name": "Python 3",
   "language": "python",
   "name": "python3"
  },
  "language_info": {
   "codemirror_mode": {
    "name": "ipython",
    "version": 3
   },
   "file_extension": ".py",
   "mimetype": "text/x-python",
   "name": "python",
   "nbconvert_exporter": "python",
   "pygments_lexer": "ipython3",
   "version": "3.7.7"
  }
 },
 "nbformat": 4,
 "nbformat_minor": 4
}
