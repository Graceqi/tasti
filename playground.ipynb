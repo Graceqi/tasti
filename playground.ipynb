{
 "cells": [
  {
   "cell_type": "code",
   "execution_count": 2,
   "metadata": {},
   "outputs": [
    {
     "data": {
      "application/vnd.jupyter.widget-view+json": {
       "model_id": "0ba709d8d9224e318651a735920b2a82",
       "version_major": 2,
       "version_minor": 0
      },
      "text/plain": [
       "HBox(children=(FloatProgress(value=0.0, description='Target DNN Invocations', max=7000.0, style=ProgressStyle(…"
      ]
     },
     "metadata": {},
     "output_type": "display_data"
    },
    {
     "name": "stdout",
     "output_type": "stream",
     "text": [
      "\n"
     ]
    }
   ],
   "source": [
    "import os\n",
    "import cv2\n",
    "import tasti\n",
    "import torch\n",
    "import pickle\n",
    "import torchvision\n",
    "import numpy as np\n",
    "import pandas as pd\n",
    "from tqdm.autonotebook import tqdm\n",
    "from collections import defaultdict\n",
    "\n",
    "os.environ['TORCH_HOME'] = '/lfs/1/jtguibas/models'\n",
    "os.environ['FVCORE_CACHE'] = '/lfs/1/jtguibas/models'\n",
    "        \n",
    "config = tasti.IndexConfig()\n",
    "config.do_mining = False\n",
    "config.do_training = False\n",
    "config.do_infer = False\n",
    "config.do_bucketting = False\n",
    "\n",
    "class VideoIndex(tasti.Index):\n",
    "    def get_target_dnn(self):\n",
    "        model = torchvision.models.detection.maskrcnn_resnet50_fpn(pretrained=True)\n",
    "        return model\n",
    "        \n",
    "    def get_embedding_dnn(self):\n",
    "        model = torchvision.models.resnet18(pretrained=True, progress=True)\n",
    "        model.fc = torch.nn.Linear(512, 128)\n",
    "        return model\n",
    "    \n",
    "    def get_target_dnn_dataset(self):\n",
    "        video = tasti.example.Video(\n",
    "            video_fp='/lfs/1/jtguibas/data/2017-12-17',\n",
    "            transform_fn=tasti.example.target_dnn_transform_fn # crop\n",
    "        )\n",
    "        return video\n",
    "    \n",
    "    def get_embedding_dnn_dataset(self):\n",
    "        video = tasti.example.Video(\n",
    "            video_fp='/lfs/1/jtguibas/data/2017-12-17',\n",
    "            transform_fn=tasti.example.embedding_dnn_transform_fn # crop and resize\n",
    "        )\n",
    "        return video\n",
    "    \n",
    "    def override_target_dnn_cache(self, target_dnn_cache):\n",
    "        labels = tasti.example.Labels(\n",
    "            labels_fp='/lfs/1/jtguibas/data/labels/jackson-town-square-2017-12-17.csv',\n",
    "            length=len(target_dnn_cache)\n",
    "        )\n",
    "        return labels\n",
    "    \n",
    "    def is_close(self, label1, label2):\n",
    "        objects = set()\n",
    "        for obj in (label1 + label2):\n",
    "            objects.add(obj.object_name)\n",
    "        for current_obj in list(objects):\n",
    "            label1_disjoint = [obj for obj in label1 if obj.object_name == current_obj]\n",
    "            label2_disjoint = [obj for obj in label2 if obj.object_name == current_obj]\n",
    "            is_redundant = tasti.example.night_street_is_close_helper(label1_disjoint, label2_disjoint)\n",
    "            if not is_redundant:\n",
    "                return False\n",
    "        return True\n",
    "    \n",
    "index = VideoIndex(config)\n",
    "index.init()"
   ]
  },
  {
   "cell_type": "code",
   "execution_count": 3,
   "metadata": {},
   "outputs": [
    {
     "data": {
      "application/vnd.jupyter.widget-view+json": {
       "model_id": "0c20853543f446148e0d7d9d44de3f0e",
       "version_major": 2,
       "version_minor": 0
      },
      "text/plain": [
       "HBox(children=(FloatProgress(value=0.0, description='Propagation', max=973136.0, style=ProgressStyle(descripti…"
      ]
     },
     "metadata": {},
     "output_type": "display_data"
    },
    {
     "name": "stdout",
     "output_type": "stream",
     "text": [
      "\n"
     ]
    },
    {
     "name": "stderr",
     "output_type": "stream",
     "text": [
      "/lfs/1/jtguibas/tasti/blazeit/aggregation/samplers.py:62: RuntimeWarning: invalid value encountered in sqrt\n",
      "  sigmat = np.sqrt(1/t * (Xt_sqsum - Xt_sum ** 2 / t))\n"
     ]
    },
    {
     "name": "stdout",
     "output_type": "stream",
     "text": [
      "Results\n",
      "=======\n",
      "Initial Estimate: 325960.22655864124\n",
      "Debiased Estimate: 350951.8614082856\n",
      "Samples: 20454\n"
     ]
    },
    {
     "data": {
      "text/plain": [
       "{'initial_estimate': 325960.22655864124,\n",
       " 'debiased_estimate': 350951.8614082856,\n",
       " 'samples': 20454}"
      ]
     },
     "execution_count": 3,
     "metadata": {},
     "output_type": "execute_result"
    }
   ],
   "source": [
    "query = tasti.AggregateQuery(index)\n",
    "query.execute()"
   ]
  },
  {
   "cell_type": "code",
   "execution_count": 4,
   "metadata": {},
   "outputs": [
    {
     "data": {
      "application/vnd.jupyter.widget-view+json": {
       "model_id": "a2f1c17a592643c2a2dc8a320723aecf",
       "version_major": 2,
       "version_minor": 0
      },
      "text/plain": [
       "HBox(children=(FloatProgress(value=0.0, description='Propagation', max=973136.0, style=ProgressStyle(descripti…"
      ]
     },
     "metadata": {},
     "output_type": "display_data"
    },
    {
     "name": "stdout",
     "output_type": "stream",
     "text": [
      "\n",
      "Results\n",
      "=======\n",
      "Initial Estimate: 253610.02639515523\n",
      "Debiased Estimate: 252542\n",
      "idxs: [     0      1      2 ... 973076 973077 973079]\n",
      "shape: (252542,)\n"
     ]
    },
    {
     "data": {
      "text/plain": [
       "{'initial_estimate': 253610.02639515523,\n",
       " 'debiased_estimate': 252542,\n",
       " 'idxs': array([     0,      1,      2, ..., 973076, 973077, 973079]),\n",
       " 'shape': (252542,)}"
      ]
     },
     "execution_count": 4,
     "metadata": {},
     "output_type": "execute_result"
    }
   ],
   "source": [
    "query = tasti.SUPGPrecisionQuery(index)\n",
    "query.execute()"
   ]
  },
  {
   "cell_type": "code",
   "execution_count": 5,
   "metadata": {},
   "outputs": [
    {
     "data": {
      "application/vnd.jupyter.widget-view+json": {
       "model_id": "b40f89985ac749029cfe8f31453a67d3",
       "version_major": 2,
       "version_minor": 0
      },
      "text/plain": [
       "HBox(children=(FloatProgress(value=0.0, description='Propagation', max=973136.0, style=ProgressStyle(descripti…"
      ]
     },
     "metadata": {},
     "output_type": "display_data"
    },
    {
     "name": "stdout",
     "output_type": "stream",
     "text": [
      "\n",
      "Results\n",
      "=======\n",
      "idxs: [     0      1      2 ... 973076 973077 973079]\n",
      "shape: (250268,)\n"
     ]
    },
    {
     "data": {
      "text/plain": [
       "{'initial_estimate': 253610.02639515523,\n",
       " 'debiased_estimate': 250268,\n",
       " 'idxs': array([     0,      1,      2, ..., 973076, 973077, 973079]),\n",
       " 'shape': (250268,)}"
      ]
     },
     "execution_count": 5,
     "metadata": {},
     "output_type": "execute_result"
    }
   ],
   "source": [
    "query = tasti.SUPGRecallQuery(index)\n",
    "query.execute()"
   ]
  }
 ],
 "metadata": {
  "kernelspec": {
   "display_name": "Python 3",
   "language": "python",
   "name": "python3"
  },
  "language_info": {
   "codemirror_mode": {
    "name": "ipython",
    "version": 3
   },
   "file_extension": ".py",
   "mimetype": "text/x-python",
   "name": "python",
   "nbconvert_exporter": "python",
   "pygments_lexer": "ipython3",
   "version": "3.7.7"
  }
 },
 "nbformat": 4,
 "nbformat_minor": 4
}
