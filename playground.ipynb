{
 "cells": [
  {
   "cell_type": "code",
   "execution_count": null,
   "metadata": {},
   "outputs": [],
   "source": [
    "import jsonlines\n",
    "import numpy as np\n",
    "import pandas as pd\n",
    "import torch\n",
    "import torch.nn as nn\n",
    "from collections import defaultdict\n",
    "from torchnlp.word_to_vector import FastText"
   ]
  },
  {
   "cell_type": "code",
   "execution_count": null,
   "metadata": {},
   "outputs": [],
   "source": [
    "class WikiSQLDataset(torch.utils.data.Dataset):\n",
    "    def __init__(self, jsonl):\n",
    "        data = []\n",
    "        with jsonlines.open(jsonl) as reader:\n",
    "            for obj in reader:\n",
    "                sql = obj['sql']\n",
    "                label = (sql['agg'], len(sql['conds']))\n",
    "                text = obj['question'].strip().lower()\n",
    "                text = text.replace('?', '') # TODO: ??\n",
    "                data.append((text, sql['agg'], len(sql['conds'])))\n",
    "        self.df = pd.DataFrame(data, columns=['text', 'agg', 'conds'])\n",
    "        self.vectors = FastText(cache='../text/vectors.pth')\n",
    "\n",
    "    def __len__(self):\n",
    "        return len(self.df)\n",
    "\n",
    "    def embed(self, text):\n",
    "        words = text.split(' ')\n",
    "        emb = self.vectors[words[0]]\n",
    "        for word in words[1:]:\n",
    "            emb += self.vectors[word]\n",
    "        emb /= len(words)\n",
    "        return emb\n",
    "\n",
    "    def __getitem__(self, idx):\n",
    "        text = self.df.loc[idx, 'text']\n",
    "        agg = self.df.loc[idx, 'agg']\n",
    "        conds = self.df.loc[idx, 'conds']\n",
    "        return self.embed(text), (agg, conds)"
   ]
  },
  {
   "cell_type": "code",
   "execution_count": null,
   "metadata": {},
   "outputs": [],
   "source": [
    "sql_dataset = WikiSQLDataset('../text/data/dev.jsonl')"
   ]
  },
  {
   "cell_type": "code",
   "execution_count": 5,
   "metadata": {},
   "outputs": [],
   "source": [
    "import tasti\n",
    "import jsonlines\n",
    "import numpy as np\n",
    "import pandas as pd\n",
    "import torch\n",
    "import torch.nn as nn\n",
    "from collections import defaultdict\n",
    "from torchnlp.word_to_vector import FastText\n",
    "\n",
    "class WikiSQLDataset(torch.utils.data.Dataset):\n",
    "    def __init__(self, jsonl):\n",
    "        self.mode = 'input'\n",
    "        data = []\n",
    "        with jsonlines.open(jsonl) as reader:\n",
    "            for obj in reader:\n",
    "                sql = obj['sql']\n",
    "                label = (sql['agg'], len(sql['conds']))\n",
    "                text = obj['question'].strip().lower()\n",
    "                text = text.replace('?', '') # TODO: ??\n",
    "                data.append((text, sql['agg'], len(sql['conds'])))\n",
    "        self.df = pd.DataFrame(data, columns=['text', 'agg', 'conds'])\n",
    "\n",
    "    def __len__(self):\n",
    "        return len(self.df)\n",
    "\n",
    "    def __getitem__(self, idx):\n",
    "        text = self.df.loc[idx, 'text']\n",
    "        agg = self.df.loc[idx, 'agg']\n",
    "        conds = self.df.loc[idx, 'conds']\n",
    "        if self.mode == 'input':\n",
    "            return text\n",
    "        else:\n",
    "            return agg, conds\n",
    "\n",
    "class FastTextEmbedder(nn.Module):\n",
    "    def __init__(self):\n",
    "        super().__init__()\n",
    "        self.vectors = FastText(cache='./vectors.pth')\n",
    "        \n",
    "    def forward(self, sentences):\n",
    "        embs = []\n",
    "        for x in sentences:\n",
    "            words = x.split(' ')\n",
    "            emb = self.vectors[words[0]]\n",
    "            for word in words[1:]:\n",
    "                emb += self.vectors[word]\n",
    "            emb /= len(words)\n",
    "            embs.append(emb.reshape(1, -1))\n",
    "        embs = torch.cat(embs, dim=0)\n",
    "        return embs\n",
    "\n",
    "class WikiSQLOfflineIndex(tasti.Index):\n",
    "    def get_target_dnn(self):\n",
    "        model = torch.nn.Identity()\n",
    "        return model\n",
    "        \n",
    "    def get_embedding_dnn(self):\n",
    "        model = FastTextEmbedder()\n",
    "        return model\n",
    "    \n",
    "    def get_target_dnn_dataset(self):\n",
    "        sql_dataset = WikiSQLDataset('../text/data/dev.jsonl')\n",
    "        sql_dataset.mode = 'input'\n",
    "        return sql_dataset\n",
    "    \n",
    "    def get_embedding_dnn_dataset(self):\n",
    "        sql_dataset = WikiSQLDataset('../text/data/dev.jsonl')\n",
    "        sql_dataset.mode = 'input'\n",
    "        return sql_dataset\n",
    "    \n",
    "    def override_target_dnn_cache(self, target_dnn_cache):\n",
    "        sql_dataset = WikiSQLDataset('../text/data/dev.jsonl')\n",
    "        sql_dataset.mode = 'output'\n",
    "        return sql_dataset\n",
    "    \n",
    "    def is_close(self, label1, label2):\n",
    "        return label1 == label2"
   ]
  },
  {
   "cell_type": "code",
   "execution_count": 6,
   "metadata": {},
   "outputs": [
    {
     "data": {
      "application/vnd.jupyter.widget-view+json": {
       "model_id": "627f87b9878d49de9e03de8088f2aaa3",
       "version_major": 2,
       "version_minor": 0
      },
      "text/plain": [
       "HBox(children=(FloatProgress(value=0.0, description='Inference', max=8421.0, style=ProgressStyle(description_w…"
      ]
     },
     "metadata": {},
     "output_type": "display_data"
    },
    {
     "name": "stdout",
     "output_type": "stream",
     "text": [
      "\n"
     ]
    },
    {
     "name": "stderr",
     "output_type": "stream",
     "text": [
      "/lfs/1/jtguibas/anaconda3/envs/TASTI/lib/python3.7/site-packages/numba/np/ufunc/parallel.py:355: NumbaWarning: The TBB threading layer requires TBB version 2019.5 or later i.e., TBB_INTERFACE_VERSION >= 11005. Found TBB_INTERFACE_VERSION = 9002. The TBB threading layer is disabled.\n",
      "  warnings.warn(problem)\n",
      "RandomBucketter: 100%|██████████| 124/124 [00:00<00:00, 972.63it/s]\n",
      "FPFBucketter: 100%|██████████| 375/375 [00:00<00:00, 1232.96it/s]\n",
      "100%|██████████| 8421/8421 [00:00<00:00, 79137.99it/s]\n"
     ]
    },
    {
     "data": {
      "application/vnd.jupyter.widget-view+json": {
       "model_id": "923d5725b96b48e4bda922741fc5b67e",
       "version_major": 2,
       "version_minor": 0
      },
      "text/plain": [
       "HBox(children=(FloatProgress(value=0.0, description='Target DNN Invocations', max=500.0, style=ProgressStyle(d…"
      ]
     },
     "metadata": {},
     "output_type": "display_data"
    },
    {
     "name": "stdout",
     "output_type": "stream",
     "text": [
      "\n"
     ]
    }
   ],
   "source": [
    "config = tasti.IndexConfig()\n",
    "config.do_mining = False\n",
    "config.do_training = False\n",
    "config.do_infer = True\n",
    "config.nb_buckets = 500\n",
    "config.batch_size = 1\n",
    "\n",
    "index = WikiSQLOfflineIndex(config)\n",
    "index.init()"
   ]
  },
  {
   "cell_type": "code",
   "execution_count": 16,
   "metadata": {},
   "outputs": [],
   "source": [
    "class WikiSQLAggregateQuery(tasti.AggregateQuery):\n",
    "    def score(self, target_dnn_output):\n",
    "        return target_dnn_output[1]\n",
    "    \n",
    "class WikiSQLSUPGPrecisionQuery(tasti.SUPGPrecisionQuery):\n",
    "    def score(self, target_dnn_output):\n",
    "        return 1.0 if target_dnn_output[0] == 0 else 0.0"
   ]
  },
  {
   "cell_type": "code",
   "execution_count": 17,
   "metadata": {},
   "outputs": [
    {
     "data": {
      "application/vnd.jupyter.widget-view+json": {
       "model_id": "da0d14434a4542d28fda96684a2dc957",
       "version_major": 2,
       "version_minor": 0
      },
      "text/plain": [
       "HBox(children=(FloatProgress(value=0.0, description='Propagation', max=8421.0, style=ProgressStyle(description…"
      ]
     },
     "metadata": {},
     "output_type": "display_data"
    },
    {
     "name": "stdout",
     "output_type": "stream",
     "text": [
      "\n",
      "Results\n",
      "=======\n",
      "Initial Estimate: 13008.502667350944\n",
      "Debiased Estimate: 11533.960855797119\n",
      "Samples: 8142\n"
     ]
    },
    {
     "data": {
      "text/plain": [
       "{'initial_estimate': 13008.502667350944,\n",
       " 'debiased_estimate': 11533.960855797119,\n",
       " 'samples': 8142}"
      ]
     },
     "execution_count": 17,
     "metadata": {},
     "output_type": "execute_result"
    }
   ],
   "source": [
    "query = NightStreetAggregateQuery(index)\n",
    "query.execute()"
   ]
  },
  {
   "cell_type": "code",
   "execution_count": 18,
   "metadata": {},
   "outputs": [
    {
     "data": {
      "application/vnd.jupyter.widget-view+json": {
       "model_id": "3ce3640bd62a42f4a941146e6a626b3f",
       "version_major": 2,
       "version_minor": 0
      },
      "text/plain": [
       "HBox(children=(FloatProgress(value=0.0, description='Propagation', max=8421.0, style=ProgressStyle(description…"
      ]
     },
     "metadata": {},
     "output_type": "display_data"
    },
    {
     "name": "stdout",
     "output_type": "stream",
     "text": [
      "\n",
      "Results\n",
      "=======\n",
      "Initial Estimate: 5754.345978265899\n",
      "Debiased Estimate: 5658\n",
      "idxs: [   0    1    2 ... 8418 8419 8420]\n",
      "shape: (5658,)\n"
     ]
    },
    {
     "data": {
      "text/plain": [
       "{'initial_estimate': 5754.345978265899,\n",
       " 'debiased_estimate': 5658,\n",
       " 'idxs': array([   0,    1,    2, ..., 8418, 8419, 8420]),\n",
       " 'shape': (5658,)}"
      ]
     },
     "execution_count": 18,
     "metadata": {},
     "output_type": "execute_result"
    }
   ],
   "source": [
    "query = NightStreetSUPGPrecisionQuery(index)\n",
    "query.execute()"
   ]
  },
  {
   "cell_type": "code",
   "execution_count": null,
   "metadata": {},
   "outputs": [],
   "source": []
  }
 ],
 "metadata": {
  "kernelspec": {
   "display_name": "Python 3",
   "language": "python",
   "name": "python3"
  },
  "language_info": {
   "codemirror_mode": {
    "name": "ipython",
    "version": 3
   },
   "file_extension": ".py",
   "mimetype": "text/x-python",
   "name": "python",
   "nbconvert_exporter": "python",
   "pygments_lexer": "ipython3",
   "version": "3.7.7"
  }
 },
 "nbformat": 4,
 "nbformat_minor": 4
}
