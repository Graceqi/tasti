{
 "cells": [
  {
   "cell_type": "code",
   "execution_count": 4,
   "metadata": {},
   "outputs": [],
   "source": [
    "import os\n",
    "import cv2\n",
    "import tasti\n",
    "import torch\n",
    "import pickle\n",
    "import torchvision\n",
    "import numpy as np\n",
    "\n",
    "os.environ['TORCH_HOME'] = '/lfs/1/jtguibas/models'\n",
    "os.environ['FVCORE_CACHE'] = '/lfs/1/jtguibas/models'"
   ]
  },
  {
   "cell_type": "code",
   "execution_count": 5,
   "metadata": {},
   "outputs": [],
   "source": [
    "class IndexConfig:\n",
    "    def __init__(self):\n",
    "        self.do_mining = True\n",
    "        self.do_training = True\n",
    "        self.batch_size = 16\n",
    "        self.nb_train = 1000\n",
    "        self.train_margin = 1.0\n",
    "        self.train_lr = 1e-4\n",
    "        self.max_k = 5\n",
    "        self.nb_buckets = 3000\n",
    "        \n",
    "config = IndexConfig()\n",
    "\n",
    "class MyIndex(tasti.Index):\n",
    "    def is_close(self, a, b):\n",
    "        return len(a) == len(b)\n",
    "    \n",
    "    def get_target_dnn_dataset(self):\n",
    "        video = tasti.Video(\n",
    "            video_fp='/lfs/1/jtguibas/data/2017-12-17',\n",
    "            transform_fn=tasti.target_dnn_transform_fn\n",
    "        )\n",
    "        return video\n",
    "    \n",
    "    def get_embedding_dnn_dataset(self):\n",
    "        video = tasti.Video(\n",
    "            video_fp='/lfs/1/jtguibas/data/2017-12-17',\n",
    "            transform_fn=tasti.embedding_dnn_transform_fn\n",
    "        )\n",
    "        return video\n",
    "    \n",
    "    def target_dnn_callback(self, result, threshold=0.95):\n",
    "        \n",
    "        boxes = result[0]['boxes'].detach().cpu().numpy()\n",
    "        confidences = result[0]['scores'].detach().cpu().numpy()\n",
    "        object_names = result[0]['labels'].detach().cpu().numpy()\n",
    "        object_names = np.array([tasti.COCO_INSTANCE_CATEGORY_NAMES[l] for l in object_names])\n",
    "        criteria = confidences > threshold\n",
    "\n",
    "        boxes = boxes[criteria]\n",
    "        object_names = object_names[criteria]\n",
    "        confidences = confidences[criteria]\n",
    "        \n",
    "        return [tasti.Box(x[0], x[1], x[2]) for x in zip(boxes, object_names, confidences)]\n",
    "        \n",
    "    def get_target_dnn(self):\n",
    "        model = torchvision.models.detection.fasterrcnn_resnet50_fpn(pretrained=True)\n",
    "        return model\n",
    "        \n",
    "    def get_embedding_dnn(self):\n",
    "        model = torchvision.models.resnet18(pretrained=True, progress=True)\n",
    "        model.fc = torch.nn.Linear(512, 128)\n",
    "        return model\n",
    "    \n",
    "# index = MyIndex(config)\n",
    "# index.do_mining()\n",
    "# index.do_training()\n",
    "# index.do_infer()\n",
    "# index.do_bucketting()\n",
    "# pickle.dump(index, open('index.pkl', 'wb'))"
   ]
  },
  {
   "cell_type": "code",
   "execution_count": 6,
   "metadata": {},
   "outputs": [
    {
     "name": "stdout",
     "output_type": "stream",
     "text": [
      "[1.32511913 0.62360861 0.4267175  ... 0.66085786 0.645763   0.703553  ]\n",
      "4910.431183229997\n"
     ]
    }
   ],
   "source": [
    "index = pickle.load(open('index.pkl', 'rb'))\n",
    "query = tasti.Query(index)\n",
    "query.execute()"
   ]
  },
  {
   "cell_type": "code",
   "execution_count": null,
   "metadata": {},
   "outputs": [],
   "source": []
  }
 ],
 "metadata": {
  "kernelspec": {
   "display_name": "Python 3",
   "language": "python",
   "name": "python3"
  },
  "language_info": {
   "codemirror_mode": {
    "name": "ipython",
    "version": 3
   },
   "file_extension": ".py",
   "mimetype": "text/x-python",
   "name": "python",
   "nbconvert_exporter": "python",
   "pygments_lexer": "ipython3",
   "version": "3.7.7"
  }
 },
 "nbformat": 4,
 "nbformat_minor": 4
}
