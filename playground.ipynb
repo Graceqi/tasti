{
 "cells": [
  {
   "cell_type": "code",
   "execution_count": 4,
   "metadata": {},
   "outputs": [],
   "source": [
    "import tasti\n",
    "import jsonlines\n",
    "import numpy as np\n",
    "import pandas as pd\n",
    "import torch\n",
    "import torch.nn as nn\n",
    "from collections import defaultdict\n",
    "from torchnlp.word_to_vector import FastText\n",
    "\n",
    "class WikiSQLDataset(torch.utils.data.Dataset):\n",
    "    def __init__(self, jsonl):\n",
    "        self.mode = 'input'\n",
    "        data = []\n",
    "        with jsonlines.open(jsonl) as reader:\n",
    "            for obj in reader:\n",
    "                sql = obj['sql']\n",
    "                label = (sql['agg'], len(sql['conds']))\n",
    "                text = obj['question'].strip().lower()\n",
    "                text = text.replace('?', '') # TODO: ??\n",
    "                data.append((text, sql['agg'], len(sql['conds'])))\n",
    "        self.df = pd.DataFrame(data, columns=['text', 'agg', 'conds'])\n",
    "        self.vectors = FastText(cache='./cache/vectors.pth')\n",
    "\n",
    "    def __len__(self):\n",
    "        return len(self.df)\n",
    "\n",
    "    def embed(self, text):\n",
    "        words = text.split(' ') # FIXME\n",
    "        emb = self.vectors[words[0]]\n",
    "        for word in words[1:]:\n",
    "            emb += self.vectors[word]\n",
    "        emb /= len(words)\n",
    "        return emb\n",
    "    \n",
    "    def __getitem__(self, idx):\n",
    "        text = self.df.loc[idx, 'text']\n",
    "        agg = self.df.loc[idx, 'agg']\n",
    "        conds = self.df.loc[idx, 'conds']\n",
    "        if self.mode == 'input':\n",
    "            return self.embed(text)\n",
    "        else:\n",
    "            return agg, conds\n",
    "        \n",
    "class Embedder(nn.Module):\n",
    "    def __init__(self, nb_out=128):\n",
    "        super().__init__()\n",
    "        self.mlp = nn.Sequential(\n",
    "                nn.Linear(300, 128),\n",
    "                nn.ReLU(inplace=True),\n",
    "                nn.Linear(128, nb_out)\n",
    "        )\n",
    "\n",
    "    def forward(self, x):\n",
    "        return self.mlp(x)\n",
    "\n",
    "class WikiSQLOfflineIndex(tasti.Index):\n",
    "    def get_target_dnn(self):\n",
    "        model = torch.nn.Identity()\n",
    "        return model\n",
    "        \n",
    "    def get_embedding_dnn(self):\n",
    "        model = Embedder()\n",
    "        return model\n",
    "    \n",
    "    def get_target_dnn_dataset(self):\n",
    "        sql_dataset = WikiSQLDataset('../text/data/dev.jsonl')\n",
    "        sql_dataset.mode = 'input'\n",
    "        return sql_dataset\n",
    "    \n",
    "    def get_embedding_dnn_dataset(self):\n",
    "        sql_dataset = WikiSQLDataset('../text/data/dev.jsonl')\n",
    "        sql_dataset.mode = 'input'\n",
    "        return sql_dataset\n",
    "    \n",
    "    def override_target_dnn_cache(self, target_dnn_cache):\n",
    "        sql_dataset = WikiSQLDataset('../text/data/dev.jsonl')\n",
    "        sql_dataset.mode = 'output'\n",
    "        return sql_dataset\n",
    "    \n",
    "    def is_close(self, label1, label2):\n",
    "        return label1 == label2\n",
    "    \n",
    "class WikiSQLAggregateQuery(tasti.AggregateQuery):\n",
    "    def score(self, target_dnn_output):\n",
    "        return target_dnn_output[1]\n",
    "    \n",
    "class WikiSQLSUPGPrecisionQuery(tasti.SUPGPrecisionQuery):\n",
    "    def score(self, target_dnn_output):\n",
    "        return 1.0 if target_dnn_output[0] == 0 else 0.0\n",
    "    \n",
    "class WikiSQLOfflineConfig(tasti.IndexConfig):\n",
    "    def __init__(self):\n",
    "        super().__init__()\n",
    "        self.do_mining = True\n",
    "        self.do_training = True\n",
    "        self.do_infer = True\n",
    "        self.do_bucketting = True\n",
    "        self.nb_train = 500\n",
    "        self.nb_buckets = 500\n",
    "        self.batch_size = 1"
   ]
  },
  {
   "cell_type": "code",
   "execution_count": 5,
   "metadata": {},
   "outputs": [
    {
     "name": "stderr",
     "output_type": "stream",
     "text": [
      "wiki.en.vec: 6.60GB [02:37, 41.8MB/s]                               \n",
      "  0%|          | 0/2519371 [00:00<?, ?it/s]Skipping token 2519370 with 1-dimensional vector ['300']; likely a header\n",
      "100%|██████████| 2519371/2519371 [03:12<00:00, 13061.42it/s]\n"
     ]
    },
    {
     "data": {
      "application/vnd.jupyter.widget-view+json": {
       "model_id": "4b48bb17031e42d69ee30ad1298f273f",
       "version_major": 2,
       "version_minor": 0
      },
      "text/plain": [
       "HBox(children=(FloatProgress(value=0.0, description='Embedding DNN', max=8421.0, style=ProgressStyle(descripti…"
      ]
     },
     "metadata": {},
     "output_type": "display_data"
    },
    {
     "name": "stdout",
     "output_type": "stream",
     "text": [
      "\n"
     ]
    },
    {
     "name": "stderr",
     "output_type": "stream",
     "text": [
      "/lfs/1/jtguibas/anaconda3/envs/TASTI/lib/python3.7/site-packages/numba/np/ufunc/parallel.py:355: NumbaWarning: The TBB threading layer requires TBB version 2019.5 or later i.e., TBB_INTERFACE_VERSION >= 11005. Found TBB_INTERFACE_VERSION = 9002. The TBB threading layer is disabled.\n",
      "  warnings.warn(problem)\n",
      "RandomBucketter: 100%|██████████| 749/749 [00:00<00:00, 1684.35it/s]\n",
      "FPFBucketter: 100%|██████████| 2250/2250 [00:01<00:00, 1687.15it/s]\n",
      "100%|██████████| 8421/8421 [00:00<00:00, 17217.30it/s]\n"
     ]
    },
    {
     "data": {
      "application/vnd.jupyter.widget-view+json": {
       "model_id": "19b47cc7c06f425091f7898f458a7974",
       "version_major": 2,
       "version_minor": 0
      },
      "text/plain": [
       "HBox(children=(FloatProgress(value=0.0, description='Target DNN', max=3000.0, style=ProgressStyle(description_…"
      ]
     },
     "metadata": {},
     "output_type": "display_data"
    },
    {
     "name": "stdout",
     "output_type": "stream",
     "text": [
      "\n"
     ]
    },
    {
     "data": {
      "application/vnd.jupyter.widget-view+json": {
       "model_id": "6ce2d446058348db86cebfefeba9c725",
       "version_major": 2,
       "version_minor": 0
      },
      "text/plain": [
       "HBox(children=(FloatProgress(value=0.0, description='Triplet Dataset Init', max=3000.0, style=ProgressStyle(de…"
      ]
     },
     "metadata": {},
     "output_type": "display_data"
    },
    {
     "name": "stdout",
     "output_type": "stream",
     "text": [
      "\n"
     ]
    },
    {
     "data": {
      "application/vnd.jupyter.widget-view+json": {
       "model_id": "c0e77038a74d40d0802742839a9b6a5d",
       "version_major": 2,
       "version_minor": 0
      },
      "text/plain": [
       "HBox(children=(FloatProgress(value=0.0, description='Training Step', max=12000.0, style=ProgressStyle(descript…"
      ]
     },
     "metadata": {},
     "output_type": "display_data"
    },
    {
     "name": "stdout",
     "output_type": "stream",
     "text": [
      "\n"
     ]
    },
    {
     "data": {
      "application/vnd.jupyter.widget-view+json": {
       "model_id": "acc0b1112387432b8183bc37ea446478",
       "version_major": 2,
       "version_minor": 0
      },
      "text/plain": [
       "HBox(children=(FloatProgress(value=0.0, description='Inference', max=8421.0, style=ProgressStyle(description_w…"
      ]
     },
     "metadata": {},
     "output_type": "display_data"
    },
    {
     "name": "stderr",
     "output_type": "stream",
     "text": [
      "RandomBucketter: 100%|██████████| 124/124 [00:00<00:00, 1702.35it/s]\n",
      "FPFBucketter:  47%|████▋     | 177/375 [00:00<00:00, 1767.55it/s]"
     ]
    },
    {
     "name": "stdout",
     "output_type": "stream",
     "text": [
      "\n"
     ]
    },
    {
     "name": "stderr",
     "output_type": "stream",
     "text": [
      "FPFBucketter: 100%|██████████| 375/375 [00:00<00:00, 1727.97it/s]\n",
      "100%|██████████| 8421/8421 [00:00<00:00, 96504.95it/s]\n"
     ]
    },
    {
     "data": {
      "application/vnd.jupyter.widget-view+json": {
       "model_id": "f7505f1c8a2449b3814904d494bd9056",
       "version_major": 2,
       "version_minor": 0
      },
      "text/plain": [
       "HBox(children=(FloatProgress(value=0.0, description='Target DNN Invocations', max=500.0, style=ProgressStyle(d…"
      ]
     },
     "metadata": {},
     "output_type": "display_data"
    },
    {
     "name": "stdout",
     "output_type": "stream",
     "text": [
      "\n"
     ]
    }
   ],
   "source": [
    "config = WikiSQLOfflineConfig()\n",
    "index = WikiSQLOfflineIndex(config)\n",
    "index.init()"
   ]
  }
 ],
 "metadata": {
  "kernelspec": {
   "display_name": "Python 3",
   "language": "python",
   "name": "python3"
  },
  "language_info": {
   "codemirror_mode": {
    "name": "ipython",
    "version": 3
   },
   "file_extension": ".py",
   "mimetype": "text/x-python",
   "name": "python",
   "nbconvert_exporter": "python",
   "pygments_lexer": "ipython3",
   "version": "3.7.7"
  }
 },
 "nbformat": 4,
 "nbformat_minor": 4
}
